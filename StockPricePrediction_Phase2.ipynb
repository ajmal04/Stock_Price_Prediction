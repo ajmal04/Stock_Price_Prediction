{
  "nbformat": 4,
  "nbformat_minor": 0,
  "metadata": {
    "colab": {
      "provenance": []
    },
    "kernelspec": {
      "name": "python3",
      "display_name": "Python 3"
    },
    "language_info": {
      "name": "python"
    }
  },
  "cells": [
    {
      "cell_type": "markdown",
      "source": [
        "## DATA COLLECTION"
      ],
      "metadata": {
        "id": "zHRsQI0fAvGx"
      }
    },
    {
      "cell_type": "code",
      "source": [
        "import pandas as pd\n",
        "import numpy as np\n",
        "import matplotlib.pyplot as plt\n",
        "from sklearn.preprocessing import MinMaxScaler\n",
        "from sklearn.metrics import mean_absolute_error, mean_squared_error\n",
        "from tensorflow.keras.models import Sequential, Model\n",
        "from tensorflow.keras.layers import LSTM, Dense, Input, Conv1D, Flatten, RepeatVector, Permute, Multiply\n",
        "from tensorflow.keras.layers import Conv2D\n",
        "\n",
        "\n",
        "data = pd.read_csv('/content/MSFT.csv')\n",
        "data['Date'] = pd.to_datetime(data['Date'])\n",
        "data.set_index('Date', inplace=True)"
      ],
      "metadata": {
        "id": "4qzjBTvzA84D"
      },
      "execution_count": 1,
      "outputs": []
    },
    {
      "cell_type": "code",
      "source": [
        "data.info()"
      ],
      "metadata": {
        "colab": {
          "base_uri": "https://localhost:8080/"
        },
        "id": "etU3zhtUA_ph",
        "outputId": "0466e2c4-76a3-4345-893e-21512a890c21"
      },
      "execution_count": 2,
      "outputs": [
        {
          "output_type": "stream",
          "name": "stdout",
          "text": [
            "<class 'pandas.core.frame.DataFrame'>\n",
            "DatetimeIndex: 8525 entries, 1986-03-13 to 2020-01-07\n",
            "Data columns (total 6 columns):\n",
            " #   Column     Non-Null Count  Dtype  \n",
            "---  ------     --------------  -----  \n",
            " 0   Open       8525 non-null   float64\n",
            " 1   High       8525 non-null   float64\n",
            " 2   Low        8525 non-null   float64\n",
            " 3   Close      8525 non-null   float64\n",
            " 4   Adj Close  8525 non-null   float64\n",
            " 5   Volume     8525 non-null   int64  \n",
            "dtypes: float64(5), int64(1)\n",
            "memory usage: 466.2 KB\n"
          ]
        }
      ]
    },
    {
      "cell_type": "code",
      "source": [
        "data.shape"
      ],
      "metadata": {
        "colab": {
          "base_uri": "https://localhost:8080/"
        },
        "id": "2sbSUC91BNLi",
        "outputId": "4291f8fa-7c49-4a19-ba15-6eaadc0f8fbb"
      },
      "execution_count": 3,
      "outputs": [
        {
          "output_type": "execute_result",
          "data": {
            "text/plain": [
              "(8525, 6)"
            ]
          },
          "metadata": {},
          "execution_count": 3
        }
      ]
    },
    {
      "cell_type": "markdown",
      "source": [
        "## DATA PREPROCESSING"
      ],
      "metadata": {
        "id": "S7L4cVt8BRMO"
      }
    },
    {
      "cell_type": "code",
      "source": [
        "data.fillna(method='ffill', inplace=True)\n",
        "\n",
        "scaler = MinMaxScaler()\n",
        "scaled_data = scaler.fit_transform(data)\n",
        "\n",
        "sequence_length = 14\n",
        "X, y = [], []\n",
        "for i in range(sequence_length, len(scaled_data)):\n",
        "    X.append(scaled_data[i - sequence_length:i])\n",
        "    y.append(scaled_data[i, 3])  # Using 'close price' as the target\n",
        "\n",
        "X, y = np.array(X), np.array(y)\n",
        "\n",
        "train_size = int(0.8 * len(X))\n",
        "X_train, X_test, y_train, y_test = X[:train_size], X[train_size:], y[:train_size], y[train_size:]"
      ],
      "metadata": {
        "id": "-ym9j-YOBVUQ"
      },
      "execution_count": 4,
      "outputs": []
    },
    {
      "cell_type": "markdown",
      "source": [
        "## RESHAPE FOR CNN-LSTM"
      ],
      "metadata": {
        "id": "LPKZkzY9DXLx"
      }
    },
    {
      "cell_type": "code",
      "source": [
        "X_train = X_train.reshape((X_train.shape[0], X_train.shape[1], X_train.shape[2]))\n",
        "X_test = X_test.reshape((X_test.shape[0], X_test.shape[1], X_test.shape[2]))"
      ],
      "metadata": {
        "id": "XTrbH5X7Darv"
      },
      "execution_count": 5,
      "outputs": []
    },
    {
      "cell_type": "markdown",
      "source": [
        "## DEFINE CNN-LSTM MODEL"
      ],
      "metadata": {
        "id": "YUCGS6s-Brmp"
      }
    },
    {
      "cell_type": "code",
      "source": [
        "model_cnn_lstm = Sequential()\n",
        "model_cnn_lstm.add(Conv1D(filters=64, kernel_size=3, activation='relu', input_shape=(X_train.shape[1], X_train.shape[2])))\n",
        "model_cnn_lstm.add(LSTM(200, return_sequences=True))\n",
        "model_cnn_lstm.add(LSTM(200))\n",
        "model_cnn_lstm.add(Dense(1))\n",
        "model_cnn_lstm.compile(optimizer='adam', loss='mean_squared_error')\n",
        "\n"
      ],
      "metadata": {
        "id": "3kGHiA6GBujW"
      },
      "execution_count": 6,
      "outputs": []
    },
    {
      "cell_type": "markdown",
      "source": [
        "## TRAINING THE MODEL"
      ],
      "metadata": {
        "id": "9WrZ4AtMByKE"
      }
    },
    {
      "cell_type": "code",
      "source": [
        "model_cnn_lstm.fit(X_train, y_train, batch_size=64, epochs=50, verbose=1)"
      ],
      "metadata": {
        "colab": {
          "base_uri": "https://localhost:8080/"
        },
        "id": "WXRZVtn-B2Sm",
        "outputId": "88ea52be-f615-42c0-96d4-c3bcf52bf07a"
      },
      "execution_count": 7,
      "outputs": [
        {
          "output_type": "stream",
          "name": "stdout",
          "text": [
            "Epoch 1/50\n",
            "107/107 [==============================] - 22s 154ms/step - loss: 6.1220e-04\n",
            "Epoch 2/50\n",
            "107/107 [==============================] - 14s 128ms/step - loss: 4.5482e-05\n",
            "Epoch 3/50\n",
            "107/107 [==============================] - 12s 111ms/step - loss: 4.4829e-05\n",
            "Epoch 4/50\n",
            "107/107 [==============================] - 12s 109ms/step - loss: 4.6033e-05\n",
            "Epoch 5/50\n",
            "107/107 [==============================] - 12s 110ms/step - loss: 4.0220e-05\n",
            "Epoch 6/50\n",
            "107/107 [==============================] - 12s 113ms/step - loss: 4.2632e-05\n",
            "Epoch 7/50\n",
            "107/107 [==============================] - 12s 113ms/step - loss: 3.6096e-05\n",
            "Epoch 8/50\n",
            "107/107 [==============================] - 12s 113ms/step - loss: 3.7368e-05\n",
            "Epoch 9/50\n",
            "107/107 [==============================] - 12s 115ms/step - loss: 3.0791e-05\n",
            "Epoch 10/50\n",
            "107/107 [==============================] - 14s 127ms/step - loss: 2.7721e-05\n",
            "Epoch 11/50\n",
            "107/107 [==============================] - 14s 128ms/step - loss: 2.9148e-05\n",
            "Epoch 12/50\n",
            "107/107 [==============================] - 12s 112ms/step - loss: 2.5540e-05\n",
            "Epoch 13/50\n",
            "107/107 [==============================] - 12s 112ms/step - loss: 2.3707e-05\n",
            "Epoch 14/50\n",
            "107/107 [==============================] - 12s 110ms/step - loss: 2.2950e-05\n",
            "Epoch 15/50\n",
            "107/107 [==============================] - 12s 108ms/step - loss: 1.9873e-05\n",
            "Epoch 16/50\n",
            "107/107 [==============================] - 12s 110ms/step - loss: 1.9771e-05\n",
            "Epoch 17/50\n",
            "107/107 [==============================] - 12s 109ms/step - loss: 1.7969e-05\n",
            "Epoch 18/50\n",
            "107/107 [==============================] - 11s 102ms/step - loss: 1.9430e-05\n",
            "Epoch 19/50\n",
            "107/107 [==============================] - 12s 107ms/step - loss: 1.9897e-05\n",
            "Epoch 20/50\n",
            "107/107 [==============================] - 13s 119ms/step - loss: 1.8417e-05\n",
            "Epoch 21/50\n",
            "107/107 [==============================] - 12s 116ms/step - loss: 1.7401e-05\n",
            "Epoch 22/50\n",
            "107/107 [==============================] - 12s 113ms/step - loss: 1.8109e-05\n",
            "Epoch 23/50\n",
            "107/107 [==============================] - 12s 113ms/step - loss: 1.9763e-05\n",
            "Epoch 24/50\n",
            "107/107 [==============================] - 13s 121ms/step - loss: 1.5925e-05\n",
            "Epoch 25/50\n",
            "107/107 [==============================] - 13s 118ms/step - loss: 1.4404e-05\n",
            "Epoch 26/50\n",
            "107/107 [==============================] - 12s 115ms/step - loss: 1.5612e-05\n",
            "Epoch 27/50\n",
            "107/107 [==============================] - 12s 115ms/step - loss: 1.4715e-05\n",
            "Epoch 28/50\n",
            "107/107 [==============================] - 12s 115ms/step - loss: 1.4432e-05\n",
            "Epoch 29/50\n",
            "107/107 [==============================] - 12s 116ms/step - loss: 1.5391e-05\n",
            "Epoch 30/50\n",
            "107/107 [==============================] - 12s 114ms/step - loss: 1.3379e-05\n",
            "Epoch 31/50\n",
            "107/107 [==============================] - 12s 111ms/step - loss: 1.5299e-05\n",
            "Epoch 32/50\n",
            "107/107 [==============================] - 12s 112ms/step - loss: 1.5363e-05\n",
            "Epoch 33/50\n",
            "107/107 [==============================] - 12s 114ms/step - loss: 1.3752e-05\n",
            "Epoch 34/50\n",
            "107/107 [==============================] - 12s 111ms/step - loss: 1.3543e-05\n",
            "Epoch 35/50\n",
            "107/107 [==============================] - 12s 109ms/step - loss: 1.6135e-05\n",
            "Epoch 36/50\n",
            "107/107 [==============================] - 12s 115ms/step - loss: 1.4050e-05\n",
            "Epoch 37/50\n",
            "107/107 [==============================] - 12s 115ms/step - loss: 1.3573e-05\n",
            "Epoch 38/50\n",
            "107/107 [==============================] - 12s 115ms/step - loss: 1.2113e-05\n",
            "Epoch 39/50\n",
            "107/107 [==============================] - 12s 114ms/step - loss: 1.5266e-05\n",
            "Epoch 40/50\n",
            "107/107 [==============================] - 12s 114ms/step - loss: 1.3670e-05\n",
            "Epoch 41/50\n",
            "107/107 [==============================] - 12s 115ms/step - loss: 1.1931e-05\n",
            "Epoch 42/50\n",
            "107/107 [==============================] - 12s 111ms/step - loss: 1.3319e-05\n",
            "Epoch 43/50\n",
            "107/107 [==============================] - 12s 112ms/step - loss: 1.6312e-05\n",
            "Epoch 44/50\n",
            "107/107 [==============================] - 12s 113ms/step - loss: 1.3176e-05\n",
            "Epoch 45/50\n",
            "107/107 [==============================] - 13s 118ms/step - loss: 1.2515e-05\n",
            "Epoch 46/50\n",
            "107/107 [==============================] - 12s 116ms/step - loss: 1.2887e-05\n",
            "Epoch 47/50\n",
            "107/107 [==============================] - 12s 113ms/step - loss: 1.4716e-05\n",
            "Epoch 48/50\n",
            "107/107 [==============================] - 13s 120ms/step - loss: 1.1404e-05\n",
            "Epoch 49/50\n",
            "107/107 [==============================] - 13s 121ms/step - loss: 1.3748e-05\n",
            "Epoch 50/50\n",
            "107/107 [==============================] - 12s 116ms/step - loss: 1.1091e-05\n"
          ]
        },
        {
          "output_type": "execute_result",
          "data": {
            "text/plain": [
              "<keras.src.callbacks.History at 0x79eb7163da80>"
            ]
          },
          "metadata": {},
          "execution_count": 7
        }
      ]
    },
    {
      "cell_type": "markdown",
      "source": [
        "## PREDICT USING THE MODEL"
      ],
      "metadata": {
        "id": "uyHs8IV-B7SB"
      }
    },
    {
      "cell_type": "code",
      "source": [
        "y_pred_cnn_lstm = model_cnn_lstm.predict(X_test)\n"
      ],
      "metadata": {
        "colab": {
          "base_uri": "https://localhost:8080/"
        },
        "id": "SodmmyCyB-Yb",
        "outputId": "b7391a09-8257-42e0-fb21-fc09b4fb1042"
      },
      "execution_count": 8,
      "outputs": [
        {
          "output_type": "stream",
          "name": "stdout",
          "text": [
            "54/54 [==============================] - 2s 26ms/step\n"
          ]
        }
      ]
    },
    {
      "cell_type": "markdown",
      "source": [
        "## POST-PROCESSING AND EVALUATION"
      ],
      "metadata": {
        "id": "gP38cMWSCA7G"
      }
    },
    {
      "cell_type": "code",
      "source": [
        "y_pred_cnn_lstm = scaler.inverse_transform(np.hstack((np.zeros((len(y_pred_cnn_lstm), scaled_data.shape[1] - 1)), y_pred_cnn_lstm)))\n",
        "y_test = scaler.inverse_transform(np.hstack((np.zeros((len(y_test), scaled_data.shape[1] - 1)), np.expand_dims(y_test, axis=1))))\n",
        "\n",
        "y_pred_close_cnn_lstm = y_pred_cnn_lstm[:, -1]\n",
        "y_test_close = y_test[:, -1]\n",
        "\n",
        "mae_cnn_lstm = mean_absolute_error(y_test_close, y_pred_close_cnn_lstm)\n",
        "rmse_cnn_lstm = np.sqrt(mean_squared_error(y_test_close, y_pred_close_cnn_lstm))\n",
        "\n",
        "print(f\"CNN-LSTM Model:\")\n",
        "print(f\"Mean Absolute Error: {mae_cnn_lstm}\")\n",
        "print(f\"Root Mean Squared Error: {rmse_cnn_lstm}\")"
      ],
      "metadata": {
        "colab": {
          "base_uri": "https://localhost:8080/"
        },
        "id": "Fn-_e-bQCInG",
        "outputId": "0f38717e-39fd-4610-b6f5-f78bf1137ff2"
      },
      "execution_count": 9,
      "outputs": [
        {
          "output_type": "stream",
          "name": "stdout",
          "text": [
            "CNN-LSTM Model:\n",
            "Mean Absolute Error: 6619972.80932829\n",
            "Root Mean Squared Error: 9659945.121583559\n"
          ]
        }
      ]
    },
    {
      "cell_type": "markdown",
      "source": [
        "## VISUALIZATION"
      ],
      "metadata": {
        "id": "7xNOnOZWCMWA"
      }
    },
    {
      "cell_type": "code",
      "source": [
        "plt.figure(figsize=(12, 6))\n",
        "plt.plot(data.index[-len(y_test):], y_test_close, label='True Close Price', color='blue')\n",
        "plt.plot(data.index[-len(y_test):], y_pred_close_cnn_lstm, label='Predicted Close Price (CNN-LSTM)', color='red')\n",
        "plt.xlabel('Date')\n",
        "plt.ylabel('Close Price')\n",
        "plt.title('Stock Price Prediction using CNN-LSTM')\n",
        "plt.legend()\n",
        "plt.show()"
      ],
      "metadata": {
        "colab": {
          "base_uri": "https://localhost:8080/",
          "height": 486
        },
        "id": "i0Z6T5-FCSFh",
        "outputId": "71070f93-d856-420b-aec7-d47a5bcca77c"
      },
      "execution_count": 10,
      "outputs": [
        {
          "output_type": "display_data",
          "data": {
            "text/plain": [
              "<Figure size 1200x600 with 1 Axes>"
            ],
            "image/png": "[encoded data removed]"
          },
          "metadata": {}
        }
      ]
    }
  ]
}